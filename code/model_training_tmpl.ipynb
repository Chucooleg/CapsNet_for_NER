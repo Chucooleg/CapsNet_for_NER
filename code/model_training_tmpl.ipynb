{
 "cells": [
  {
   "cell_type": "markdown",
   "metadata": {},
   "source": [
    "# Model Training\n",
    "> To facilitate a more automated training procedure, the model training is moved to a standalone file.  \n",
    "This keeps Keras much happier in terms of required restarts and memory usage."
   ]
  },
  {
   "cell_type": "code",
   "execution_count": null,
   "metadata": {
    "collapsed": true
   },
   "outputs": [],
   "source": [
    "%load_ext autoreload\n",
    "%autoreload 2\n",
    "from importlib import reload\n",
    "\n",
    "import numpy as np\n",
    "import time # !\n",
    "import json\n",
    "from matplotlib import pyplot as plt\n",
    "\n",
    "from keras.utils import to_categorical\n",
    "\n",
    "import glove_helper\n",
    "from loadutils import conll2003Data, saveProcessedData\n",
    "from common import vocabulary, utils\n"
   ]
  },
  {
   "cell_type": "code",
   "execution_count": null,
   "metadata": {
    "collapsed": true
   },
   "outputs": [],
   "source": [
    "TRAIN_FILE = \"../data/conll2003/eng.train\"\n",
    "DEV_FILE = \"../data/conll2003/eng.testa\"\n",
    "TEST_FILE = \"../data/conll2003/eng.testb\"\n",
    "\n",
    "# out files for IPC\n",
    "HYPER_PARAM_FILE = \"hyper_params.json\"\n",
    "\n",
    "VOCAB_SIZE = 20000"
   ]
  },
  {
   "cell_type": "markdown",
   "metadata": {},
   "source": [
    "## Local helper utils"
   ]
  },
  {
   "cell_type": "code",
   "execution_count": null,
   "metadata": {
    "collapsed": true
   },
   "outputs": [],
   "source": [
    "# local untils\n",
    "\n",
    "# timeit decorator\n",
    "def timeit(method):\n",
    "    def timed(*args, **kw):\n",
    "        ts = time.time()\n",
    "        result = method(*args, **kw)\n",
    "        te = time.time()\n",
    "        if 'log_time' in kw:\n",
    "            name = kw.get('log_name', method.__name__.upper())\n",
    "            kw['log_time'][name] = int((te - ts) * 1000)\n",
    "        else:\n",
    "            print ('%r  %2.2f ms' % \\\n",
    "                  (method.__name__, (te - ts) * 1000))\n",
    "        return result\n",
    "    return timed"
   ]
  },
  {
   "cell_type": "code",
   "execution_count": null,
   "metadata": {
    "collapsed": true
   },
   "outputs": [],
   "source": [
    "def construct_embedding_matrix(embed_dim, vocab_size):\n",
    "    \"\"\"\n",
    "    construct embedding matrix from GloVe 6Bn word data\n",
    "    \n",
    "    reuse glove_helper code from w266 \n",
    "    \n",
    "    Returns: an embedding matrix directly plugged into keras.layers.Embedding(weights=[embedding_matrix])\n",
    "    \"\"\"\n",
    "    reload(glove_helper)\n",
    "    hands = glove_helper.Hands(ndim=embed_dim)\n",
    "    embedding_matrix = np.zeros((vocab_size, embed_dim))\n",
    "    \n",
    "    for i in range(vocabData.vocab.size):\n",
    "        word = vocabData.vocab.ids_to_words([i])[0]\n",
    "        try:\n",
    "            embedding_vector = hands.get_vector(word)\n",
    "        except:\n",
    "            embedding_vector = hands.get_vector(\"<unk>\")\n",
    "        embedding_matrix[i] = embedding_vector\n",
    "\n",
    "    return embedding_matrix"
   ]
  },
  {
   "cell_type": "code",
   "execution_count": null,
   "metadata": {
    "collapsed": true
   },
   "outputs": [],
   "source": [
    "def plot_history( history):\n",
    "    # summarize history for accuracy\n",
    "    plt.plot(history.history['acc'])\n",
    "    plt.plot(history.history['val_acc'])\n",
    "    plt.title('model accuracy')\n",
    "    plt.ylabel('accuracy')\n",
    "    plt.xlabel('epoch')\n",
    "    plt.legend(['train', 'test'], loc='upper left')\n",
    "    plt.show()\n",
    "    \n",
    "    # summarize history for loss\n",
    "    plt.plot(history.history['loss'])\n",
    "    plt.plot(history.history['val_loss'])\n",
    "    plt.title('model loss')\n",
    "    plt.ylabel('loss')\n",
    "    plt.xlabel('epoch')\n",
    "    plt.legend(['train', 'test'], loc='upper left')\n",
    "    plt.show()"
   ]
  },
  {
   "cell_type": "markdown",
   "metadata": {},
   "source": [
    "## Load the Data"
   ]
  },
  {
   "cell_type": "code",
   "execution_count": null,
   "metadata": {
    "collapsed": true
   },
   "outputs": [],
   "source": [
    "# UPDATES!\n",
    "\n",
    "windowLength = 9\n",
    "#testNumSents = 20000\n",
    "\n",
    "# Use training set to build vocab here\n",
    "vocabData = conll2003Data(TRAIN_FILE)\n",
    "vocabData.buildVocab( vocabSize=VOCAB_SIZE)\n",
    "\n",
    "# Format training data\n",
    "trainX, trainX_pos, trainX_capitals, trainY  = vocabData.formatWindowedData( \n",
    "                                                  vocabData.train_sentences, \n",
    "                                                  windowLength=windowLength,\n",
    "                                                  verbose=False)\n",
    "\n",
    "# read in dev data\n",
    "devSents = vocabData.readFile( DEV_FILE)\n",
    "devX, devX_pos, devX_capitals, devY = vocabData.formatWindowedData( \n",
    "                                              devSents, \n",
    "                                              windowLength=windowLength,\n",
    "                                              verbose=False)\n",
    "\n",
    "# read in the test data\n",
    "testSents = vocabData.readFile( TEST_FILE)\n",
    "testX, testX_pos, testX_capitals, testY = vocabData.formatWindowedData( \n",
    "                                                testSents, \n",
    "                                                windowLength=windowLength,\n",
    "                                                verbose=False)"
   ]
  },
  {
   "cell_type": "code",
   "execution_count": null,
   "metadata": {
    "collapsed": true,
    "scrolled": false
   },
   "outputs": [],
   "source": [
    "# Load GloVe embedding matrix\n",
    "\n",
    "# setting it to global instead of hyper_param dictionaries because embedding \\\n",
    "# dimensions need to be decided before the data is loaded for the decoder output\n",
    "global_max_features = 20000\n",
    "global_embed_dim = 50\n",
    "\n",
    "embedding_matrix = construct_embedding_matrix( global_embed_dim, \n",
    "                                               global_max_features)"
   ]
  },
  {
   "cell_type": "code",
   "execution_count": null,
   "metadata": {
    "collapsed": true
   },
   "outputs": [],
   "source": [
    "# Get Y\n",
    "\n",
    "# encoding 1-hot for ner targets\n",
    "trainY_cat = to_categorical(trainY.astype('float32'))\n",
    "devY_cat = to_categorical(devY.astype('float32'), num_classes=trainY_cat.shape[1])\n",
    "testY_cat = to_categorical(testY.astype('float32'), num_classes=trainY_cat.shape[1])\n",
    "\n",
    "trainY_cat = np.array(list(map( lambda i: np.array(i[3:], dtype=np.float), trainY_cat)), dtype=np.float)\n",
    "devY_cat = np.array(list(map( lambda i: np.array(i[3:], dtype=np.float), devY_cat)), dtype=np.float)\n",
    "testY_cat = np.array(list(map( lambda i: np.array(i[3:], dtype=np.float), testY_cat)), dtype=np.float)"
   ]
  },
  {
   "cell_type": "code",
   "execution_count": null,
   "metadata": {
    "collapsed": true
   },
   "outputs": [],
   "source": [
    "# Get decoder Y -- 50 dim embedding of center word\n",
    "\n",
    "train_decoderY = embedding_matrix[trainX[:,4]]\n",
    "dev_decoderY = embedding_matrix[devX[:,4]]\n",
    "test_decoderY = embedding_matrix[testX[:,4]]"
   ]
  },
  {
   "cell_type": "code",
   "execution_count": null,
   "metadata": {
    "collapsed": true
   },
   "outputs": [],
   "source": [
    "# Get X pos tags\n",
    "\n",
    "# encoding 1-hot for pos tags\n",
    "trainX_pos_cat = to_categorical(trainX_pos.astype('float32'))\n",
    "devX_pos_cat = to_categorical(devX_pos.astype('float32'), num_classes=trainX_pos_cat.shape[2]) \n",
    "testX_pos_cat = to_categorical(testX_pos.astype('float32'), num_classes=trainX_pos_cat.shape[2])\n",
    "\n",
    "trainX_pos_cat = np.array(list(map( lambda i: np.array(i[:,3:], dtype=np.float), trainX_pos_cat)), dtype=np.float)\n",
    "devX_pos_cat = np.array(list(map( lambda i: np.array(i[:,3:], dtype=np.float), devX_pos_cat)), dtype=np.float)\n",
    "testX_pos_cat = np.array(list(map( lambda i: np.array(i[:,3:], dtype=np.float), testX_pos_cat)), dtype=np.float)"
   ]
  },
  {
   "cell_type": "code",
   "execution_count": null,
   "metadata": {
    "collapsed": true
   },
   "outputs": [],
   "source": [
    "# Get X capitlization \n",
    "\n",
    "# encoding 1-hot for capitalization info  (\"allCaps\", \"upperInitial\", \"lowercase\", \"mixedCaps\", \"noinfo\")\n",
    "trainX_capitals_cat = to_categorical(trainX_capitals.astype('float32'))\n",
    "devX_capitals_cat = to_categorical(devX_capitals.astype('float32'), num_classes=trainX_capitals_cat.shape[2]) \n",
    "testX_capitals_cat = to_categorical(testX_capitals.astype('float32'), num_classes=trainX_capitals_cat.shape[2])\n",
    "\n",
    "trainX_capitals_cat = np.array(list(map( lambda i: np.array(i[:,3:], dtype=np.float), trainX_capitals_cat)), dtype=np.float)\n",
    "devX_capitals_cat = np.array(list(map( lambda i: np.array(i[:,3:], dtype=np.float), devX_capitals_cat)), dtype=np.float)\n",
    "testX_capitals_cat = np.array(list(map( lambda i: np.array(i[:,3:], dtype=np.float), testX_capitals_cat)), dtype=np.float)"
   ]
  },
  {
   "cell_type": "markdown",
   "metadata": {},
   "source": [
    "## Set up model parameters"
   ]
  },
  {
   "cell_type": "code",
   "execution_count": null,
   "metadata": {
    "collapsed": true
   },
   "outputs": [],
   "source": [
    "# define hyper parameters for model\n",
    "# CAPSNET\n",
    "hyper_param_caps = {\n",
    "    \n",
    "    'max_features' : global_max_features,  # 20000\n",
    "    'maxlen' : trainX.shape[1],  # window size (9)\n",
    "    'poslen' : trainX_pos_cat.shape[2],  # pos classes (45)\n",
    "    'capitallen' : trainX_capitals_cat.shape[2],  # capitalization classes (5)\n",
    "    'ner_classes' : trainY_cat.shape[1],  # 8 \n",
    "    'embed_dim' : global_embed_dim,  # word embedding size\n",
    "    'num_routing' : 3, \n",
    "\n",
    "    'use_glove' : True,\n",
    "    'allow_glove_retrain' : False,\n",
    "    'use_pos_tags' : True,\n",
    "    'use_capitalization_info' : True,    \n",
    "    \n",
    "    'conv1_filters' : 256,\n",
    "    'conv1_kernel_size' : 3,\n",
    "    'conv1_strides' : 1,\n",
    "    'conv1_padding' : 'valid',\n",
    "    \n",
    "    'use_2D_primarycaps' : False,\n",
    "    'primarycaps_dim_capsule' : 8,\n",
    "    'primarycaps_n_channels' : 32,\n",
    "    'primarycaps_kernel_size' : 3,\n",
    "    'primarycaps_strides' : 1,\n",
    "    'primarycaps_padding' : 'valid',\n",
    "\n",
    "    'ner_capsule_dim' : 16,\n",
    "    \n",
    "    'num_dynamic_routing_passes' : 3,\n",
    "    \n",
    "    # decoder is still work in progress\n",
    "    'use_decoder' : False,\n",
    "    'decoder_feed_forward_1' : 100,\n",
    "    'decoder_feed_forward_2' : 100, \n",
    "    'decoder_dropout' : 0.3,\n",
    "    \n",
    "    'save_dir' : './result',\n",
    "    'batch_size' : 100,\n",
    "    'debug' : 2,\n",
    "    'epochs' : 5,\n",
    "    'stopping_patience' : 5, # default to same as epochs, ie don't use\n",
    "    'dropout_p' : 0.25,\n",
    "    'embed_dropout' : 0.25,\n",
    "    'lam_recon' : 0.0005,\n",
    "    \n",
    "    'optimizer' : 'Adam', #or 'SGD'\n",
    "}"
   ]
  },
  {
   "cell_type": "code",
   "execution_count": null,
   "metadata": {
    "collapsed": true
   },
   "outputs": [],
   "source": [
    "# define hyper parameters for model\n",
    "# CNN\n",
    "hyper_param_cnn = {\n",
    "    \n",
    "    'max_features' : global_max_features,  # 20000\n",
    "    'maxlen' : trainX.shape[1],  # window size (9)\n",
    "    'poslen' : trainX_pos_cat.shape[2],  # pos classes (45)\n",
    "    'capitallen' : trainX_capitals_cat.shape[2],  # capitalization classes (5)\n",
    "    'ner_classes' : trainY_cat.shape[1],  # 8 \n",
    "    'embed_dim' : global_embed_dim,  # word embedding size\n",
    "    'num_routing' : 3, \n",
    "\n",
    "    'use_glove' : True,\n",
    "    'allow_glove_retrain' : False,\n",
    "    'use_pos_tags' : True,\n",
    "    'use_capitalization_info' : True,    \n",
    "    \n",
    "    'conv1_filters' : 256,\n",
    "    'conv1_kernel_size' : 3,\n",
    "    'conv1_strides' : 1,\n",
    "    'conv1_padding' : 'valid',\n",
    "    \n",
    "    'conv2_filters' : 256,\n",
    "    'conv2_kernel_size' : 3,\n",
    "    'conv2_strides' : 1,\n",
    "    'conv2_padding' : 'valid',\n",
    "    \n",
    "    'conv3_filters' : 128,\n",
    "    'conv3_kernel_size' : 3,\n",
    "    'conv3_strides' : 1,\n",
    "    'conv3_padding' : 'valid',\n",
    "    \n",
    "    'max_pooling_size' : 3,\n",
    "    'max_pooling_strides' : 1,\n",
    "    'max_pooling_padding' : 'valid',\n",
    "    'maxpool_dropout' : 0.3,\n",
    "    \n",
    "    'feed_forward_1' : 328,\n",
    "    'ff1_dropout' : 0.3,\n",
    "    'feed_forward_2' : 192,\n",
    "    'ff2_dropout' : 0.3,\n",
    "    \n",
    "    'save_dir' : './result',\n",
    "    'batch_size' : 100,\n",
    "    'debug' : 2,\n",
    "    'epochs' : 5,\n",
    "    'stopping_patience' : 5, # default to same as epochs, ie don't use\n",
    "    'dropout_p' : 0.25,\n",
    "    'embed_dropout' : 0.25,  # set to 0 to disable dropout\n",
    "    'lam_recon' : 0.0005,\n",
    "    \n",
    "    'optimizer' : 'Adam', #or 'SGD'\n",
    "}"
   ]
  },
  {
   "cell_type": "markdown",
   "metadata": {},
   "source": [
    "## Build Glove Embeddings Matrix and Save All Data to Disk"
   ]
  },
  {
   "cell_type": "code",
   "execution_count": null,
   "metadata": {
    "collapsed": true
   },
   "outputs": [],
   "source": [
    "# save all loaded data for use by training process\n",
    "saveProcessedData( trainX, trainX_capitals_cat, trainX_pos_cat, devX, devX_capitals_cat,\n",
    "                   devX_pos_cat, trainY_cat, devY_cat, embedding_matrix, train_decoderY, dev_decoderY)"
   ]
  },
  {
   "cell_type": "markdown",
   "metadata": {},
   "source": [
    "## Model Training Functions"
   ]
  },
  {
   "cell_type": "code",
   "execution_count": null,
   "metadata": {
    "collapsed": true
   },
   "outputs": [],
   "source": [
    "@timeit \n",
    "def trainModelSP( testFunc, modelName, hyper_params, embed_matrix=None, verbose=False):\n",
    "    \"\"\"\n",
    "    testFunc - the name of the python file to run\n",
    "    modelName - the internal name (ID) of the model to train\n",
    "    hyper_params - a dict of hyper parameters\n",
    "    \"\"\"\n",
    "    # save the hyperparams\n",
    "    with open(HYPER_PARAM_FILE, mode='w') as fp:\n",
    "        json.dump( hyper_params, fp)\n",
    "    \n",
    "    # call the train function\n",
    "    # consider replacing with a call to subprocess!!\n",
    "    !python {testFunc} {modelName} {HYPER_PARAM_FILE}\n"
   ]
  },
  {
   "cell_type": "code",
   "execution_count": null,
   "metadata": {
    "collapsed": true
   },
   "outputs": [],
   "source": [
    "@timeit \n",
    "def testFeatures( testFunc, modelName, hyper_params):\n",
    "    \"\"\"\n",
    "    builds and trains 4 models for the configuration in hyper_params,\n",
    "    1 for each input feature configuration: base, pos, caps, pos + caps\n",
    "    \n",
    "    testFunc - the name of the python file to run\n",
    "    modelName - the model name to use for labeling\n",
    "    \"\"\"\n",
    "    hypers = hyper_params.copy()\n",
    "    \n",
    "    # try the embeddings with different features\n",
    "    \n",
    "    # base\n",
    "    curModel = modelName + \"_base\"\n",
    "    trainModelSP( testFunc, curModel, hypers )\n",
    "    \n",
    "    # pos tags\n",
    "    curModel = modelName + \"_pos\"\n",
    "    hypers['use_pos_tags'] = True\n",
    "    hypers['use_capitalization_info'] = False\n",
    "    trainModelSP( testFunc, curModel, hypers )\n",
    "    \n",
    "    # capitalization info\n",
    "    curModel = modelName + \"_caps\"\n",
    "    hypers['use_pos_tags'] = False\n",
    "    hypers['use_capitalization_info'] = True\n",
    "    trainModelSP( testFunc, curModel, hypers )\n",
    "    \n",
    "    # both\n",
    "    curModel = modelName + \"_pos_caps\"\n",
    "    hypers['use_pos_tags'] = True\n",
    "    hypers['use_capitalization_info'] = True\n",
    "    trainModelSP( testFunc, curModel, hypers )\n",
    "    "
   ]
  },
  {
   "cell_type": "markdown",
   "metadata": {},
   "source": [
    "## Still need:\n",
    "> a function to read in each historylog.csv file, optionally plot, then collect the best scoring epoch (lowest loss? - discuss, add F1?) to determine the best model and how long it trained."
   ]
  },
  {
   "cell_type": "markdown",
   "metadata": {},
   "source": [
    "### 1D Primary Caps Layer Training\n",
    "> I know the output isn't pretty, but we don't really need it since everything is stored in the history log... It is really just to show a sign of life."
   ]
  },
  {
   "cell_type": "code",
   "execution_count": null,
   "metadata": {
    "collapsed": true
   },
   "outputs": [],
   "source": [
    "# test changing vocab size?...will have to rerun all tests for each size. same for word embedding size. is ok.\n",
    "# change embedding sizes!!!\n",
    "# primary caps conv1D kernel size - play with it!!!\n",
    "# - changing dropout rate will be perhaps in hyperparam tuning"
   ]
  },
  {
   "cell_type": "code",
   "execution_count": null,
   "metadata": {
    "collapsed": true,
    "scrolled": true
   },
   "outputs": [],
   "source": [
    "# CONSIDER WRAPPING IN A FUNCTION... PROS AND CONS...\n",
    "\n",
    "# capsnet training function\n",
    "testFunc = \"trainCapsModel.py\"\n",
    "\n",
    "hypers = hyper_param_caps.copy()\n",
    "hypers['epochs'] = 50\n",
    "hypers['stopping_patience'] = 5\n",
    "hypers['use_pos_tags'] = False\n",
    "hypers['use_capitalization_info'] = False\n",
    "\n",
    "# try different embeddings\n",
    "# learn embeddings\n",
    "print(\"\\n\\nLearn Embeddings\")\n",
    "hypers['use_glove'] = False\n",
    "hypers['embed_dropout'] = 0.0\n",
    "testFeatures( testFunc, \"learn\", hypers)\n",
    "\n",
    "# learn embeddings + Dropout\n",
    "print(\"\\n\\nLearn Embeddings and Dropout\")\n",
    "hypers['use_glove'] = False\n",
    "hypers['embed_dropout'] = 0.25\n",
    "testFeatures( testFunc, \"learn_dropout\", hypers)\n",
    "\n",
    "# use glove, no learn\n",
    "print(\"\\n\\nGlove Embeddings\")\n",
    "hypers['use_glove'] = True\n",
    "hypers['allow_glove_retrain'] = False\n",
    "hypers['embed_dropout'] = 0.0\n",
    "testFeatures( testFunc, \"glove_nolearn\", hypers)\n",
    "\n",
    "# use glove, no learn + Dropout\n",
    "print(\"\\n\\nGlove Embeddings and Dropout\")\n",
    "hypers['use_glove'] = True\n",
    "hypers['allow_glove_retrain'] = False\n",
    "hypers['embed_dropout'] = 0.25\n",
    "testFeatures( testFunc, \"glove_nolearn_dropout\", hypers)\n",
    "\n",
    "# use glove, learn\n",
    "print(\"\\n\\nGlove Embeddings with Learning\")\n",
    "hypers['use_glove'] = True\n",
    "hypers['allow_glove_retrain'] = True\n",
    "hypers['embed_dropout'] = 0.0\n",
    "testFeatures( testFunc, \"glove_learn\", hypers)\n",
    "\n",
    "# use glove, learn + Dropout\n",
    "print(\"\\n\\nGlove Embeddings with Learning and Dropout\")\n",
    "hypers['use_glove'] = True\n",
    "hypers['allow_glove_retrain'] = True\n",
    "hypers['embed_dropout'] = 0.25\n",
    "testFeatures( testFunc, \"glove_learn_dropout\", hypers)\n",
    "\n"
   ]
  },
  {
   "cell_type": "code",
   "execution_count": null,
   "metadata": {
    "collapsed": true,
    "scrolled": true
   },
   "outputs": [],
   "source": [
    "# train a caps model with 2D Primary caps and repeat tests\n",
    "\n",
    "# capsnet training function\n",
    "testFunc = \"trainCapsModel.py\"\n",
    "\n",
    "hypers = hyper_param_caps.copy()\n",
    "hypers['optimizer'] = \"SGD\"\n",
    "print(\"Training with SGD - Nesterov Momentum Optimizer\")\n",
    "\n",
    "hypers['epochs'] = 50\n",
    "hypers['stopping_patience'] = 5\n",
    "hypers['use_pos_tags'] = False\n",
    "hypers['use_capitalization_info'] = False\n",
    "\n",
    "# try different embeddings\n",
    "# learn embeddings\n",
    "print(\"\\n\\nLearn Embeddings\")\n",
    "hypers['use_glove'] = False\n",
    "hypers['embed_dropout'] = 0.0\n",
    "testFeatures( testFunc, \"SGD_primcaps_learn\", hypers)\n",
    "\n",
    "# learn embeddings + Dropout\n",
    "print(\"\\n\\nLearn Embeddings and Dropout\")\n",
    "hypers['use_glove'] = False\n",
    "hypers['embed_dropout'] = 0.25\n",
    "testFeatures( testFunc, \"SGD_primcaps_learn_dropout\", hypers)\n",
    "\n",
    "# use glove, no learn\n",
    "print(\"\\n\\nGlove Embeddings\")\n",
    "hypers['use_glove'] = True\n",
    "hypers['allow_glove_retrain'] = False\n",
    "hypers['embed_dropout'] = 0.0\n",
    "testFeatures( testFunc, \"SGD_primcaps_glove_nolearn\", hypers)\n",
    "\n",
    "# use glove, no learn + Dropout\n",
    "print(\"\\n\\nGlove Embeddings and Dropout\")\n",
    "hypers['use_glove'] = True\n",
    "hypers['allow_glove_retrain'] = False\n",
    "hypers['embed_dropout'] = 0.25\n",
    "testFeatures( testFunc, \"SGD_primcaps_glove_nolearn_dropout\", hypers)\n",
    "\n",
    "# use glove, learn\n",
    "print(\"\\n\\nGlove Embeddings with Learning\")\n",
    "hypers['use_glove'] = True\n",
    "hypers['allow_glove_retrain'] = True\n",
    "hypers['embed_dropout'] = 0.0\n",
    "testFeatures( testFunc, \"SGD_primcaps_glove_learn\", hypers)\n",
    "\n",
    "# use glove, learn + Dropout\n",
    "print(\"\\n\\nGlove Embeddings with Learning and Dropout\")\n",
    "hypers['use_glove'] = True\n",
    "hypers['allow_glove_retrain'] = True\n",
    "hypers['embed_dropout'] = 0.25\n",
    "testFeatures( testFunc, \"SGD_primcaps_glove_learn_dropout\", hypers)"
   ]
  },
  {
   "cell_type": "code",
   "execution_count": null,
   "metadata": {
    "collapsed": true,
    "scrolled": true
   },
   "outputs": [],
   "source": [
    "# capsnet training function\n",
    "testFunc = \"trainCapsModel.py\"\n",
    "\n",
    "hypers = hyper_param_caps.copy()\n",
    "# Back to Adam\n",
    "hypers['optimizer'] = \"Adam\"\n",
    "print(\"Training with Adam\")\n",
    "\n",
    "hypers['epochs'] = 60\n",
    "hypers['stopping_patience'] = 10 # more dropout... let it go longer\n",
    "hypers['use_pos_tags'] = False\n",
    "hypers['use_capitalization_info'] = False\n",
    "\n",
    "# learn embeddings + Dropout\n",
    "print(\"\\n\\nLearn Embeddings and Dropout at 50%\")\n",
    "hypers['use_glove'] = False\n",
    "hypers['embed_dropout'] = 0.5\n",
    "testFeatures( testFunc, \"learn_dropout_05\", hypers)\n",
    "\n",
    "# use glove, no learn + Dropout\n",
    "print(\"\\n\\nGlove Embeddings and Dropout at 50%\")\n",
    "hypers['use_glove'] = True\n",
    "hypers['allow_glove_retrain'] = False\n",
    "hypers['embed_dropout'] = 0.5\n",
    "testFeatures( testFunc, \"glove_nolearn_dropout_05\", hypers)\n",
    "\n",
    "# use glove, learn + Dropout\n",
    "print(\"\\n\\nGlove Embeddings with Learning and Dropout at 50%\")\n",
    "hypers['use_glove'] = True\n",
    "hypers['allow_glove_retrain'] = True\n",
    "hypers['embed_dropout'] = 0.5\n",
    "testFeatures( testFunc, \"glove_learn_dropout_05\", hypers)"
   ]
  },
  {
   "cell_type": "markdown",
   "metadata": {},
   "source": [
    "### 2D Primary Caps Layer\n",
    ">**NOT YET ATTEMPTED!**  \n",
    "* try one first, see if it even trains...  \n",
    "* may need a new set of hypers to get it working/training"
   ]
  },
  {
   "cell_type": "code",
   "execution_count": null,
   "metadata": {
    "collapsed": true
   },
   "outputs": [],
   "source": [
    "# train a caps model with 2D Primary caps and repeat tests\n",
    "\n",
    "# capsnet training function\n",
    "testFunc = \"trainCapsModel.py\"\n",
    "\n",
    "hypers = hyper_param_caps.copy()\n",
    "hypers['use_2D_primarycaps'] = True\n",
    "\n",
    "hypers['epochs'] = 1\n",
    "hypers['stopping_patience'] = 1\n",
    "hypers['use_pos_tags'] = False\n",
    "hypers['use_capitalization_info'] = False\n",
    "\n",
    "# try different embeddings\n",
    "# learn embeddings\n",
    "print(\"\\n\\nLearn Embeddings\")\n",
    "hypers['use_glove'] = False\n",
    "hypers['embed_dropout'] = 0.0\n",
    "testFeatures( testFunc, \"2D_primcaps_learn\", hypers)\n",
    "\n",
    "# learn embeddings + Dropout\n",
    "print(\"\\n\\nLearn Embeddings and Dropout\")\n",
    "hypers['use_glove'] = False\n",
    "hypers['embed_dropout'] = 0.25\n",
    "testFeatures( testFunc, \"2D_primcaps_learn_dropout\", hypers)\n",
    "\n",
    "# use glove, no learn\n",
    "print(\"\\n\\nGlove Embeddings\")\n",
    "hypers['use_glove'] = True\n",
    "hypers['allow_glove_retrain'] = False\n",
    "hypers['embed_dropout'] = 0.0\n",
    "testFeatures( testFunc, \"2D_primcaps_glove_nolearn\", hypers)\n",
    "\n",
    "# use glove, no learn + Dropout\n",
    "print(\"\\n\\nGlove Embeddings and Dropout\")\n",
    "hypers['use_glove'] = True\n",
    "hypers['allow_glove_retrain'] = False\n",
    "hypers['embed_dropout'] = 0.25\n",
    "testFeatures( testFunc, \"2D_primcaps_glove_nolearn_dropout\", hypers)\n",
    "\n",
    "# use glove, learn\n",
    "print(\"\\n\\nGlove Embeddings with Learning\")\n",
    "hypers['use_glove'] = True\n",
    "hypers['allow_glove_retrain'] = True\n",
    "hypers['embed_dropout'] = 0.0\n",
    "testFeatures( testFunc, \"2D_primcaps_glove_learn\", hypers)\n",
    "\n",
    "# use glove, learn + Dropout\n",
    "print(\"\\n\\nGlove Embeddings with Learning and Dropout\")\n",
    "hypers['use_glove'] = True\n",
    "hypers['allow_glove_retrain'] = True\n",
    "hypers['embed_dropout'] = 0.25\n",
    "testFeatures( testFunc, \"2D_primcaps_glove_learn_dropout\", hypers)\n",
    "\n"
   ]
  },
  {
   "cell_type": "code",
   "execution_count": null,
   "metadata": {
    "collapsed": true
   },
   "outputs": [],
   "source": [
    "# baseline thoughts... we want the cnn to be the BEST. we want to compare our results to state of the art."
   ]
  },
  {
   "cell_type": "code",
   "execution_count": null,
   "metadata": {
    "collapsed": true
   },
   "outputs": [],
   "source": []
  },
  {
   "cell_type": "code",
   "execution_count": null,
   "metadata": {
    "collapsed": true
   },
   "outputs": [],
   "source": []
  },
  {
   "cell_type": "code",
   "execution_count": null,
   "metadata": {
    "collapsed": true
   },
   "outputs": [],
   "source": []
  },
  {
   "cell_type": "code",
   "execution_count": null,
   "metadata": {
    "collapsed": true
   },
   "outputs": [],
   "source": []
  }
 ],
 "metadata": {
  "kernelspec": {
   "display_name": "Python 3",
   "language": "python",
   "name": "python3"
  },
  "language_info": {
   "codemirror_mode": {
    "name": "ipython",
    "version": 3
   },
   "file_extension": ".py",
   "mimetype": "text/x-python",
   "name": "python",
   "nbconvert_exporter": "python",
   "pygments_lexer": "ipython3",
   "version": "3.6.3"
  }
 },
 "nbformat": 4,
 "nbformat_minor": 2
}
