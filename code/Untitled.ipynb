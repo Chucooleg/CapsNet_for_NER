{
 "cells": [
  {
   "cell_type": "code",
   "execution_count": 21,
   "metadata": {},
   "outputs": [
    {
     "name": "stdout",
     "output_type": "stream",
     "text": [
      "Downloading GloVe vectors to data/glove\n",
      "Loading vectors from data/glove/glove.6B.zip\n",
      "Parsing file: data/glove/glove.6B.zip:glove.6B.100d.txt\n",
      "Found 400,000 words.\n",
      "Parsing vectors... Done! (W.shape = (400003, 100))\n"
     ]
    }
   ],
   "source": [
    "from importlib import reload\n",
    "import glove_helper; \n",
    "\n",
    "reload(glove_helper)\n",
    "\n",
    "hands = glove_helper.Hands(ndim=100)"
   ]
  },
  {
   "cell_type": "code",
   "execution_count": 29,
   "metadata": {},
   "outputs": [],
   "source": [
    "try:\n",
    "    hands.get_vector(\"<unk>\")\n",
    "except:\n",
    "    print ()"
   ]
  },
  {
   "cell_type": "code",
   "execution_count": 30,
   "metadata": {},
   "outputs": [
    {
     "data": {
      "text/plain": [
       "array([ 0.05209883, -0.09711445, -0.1380765 ,  0.11075345, -0.02722748,\n",
       "       -0.00326409,  0.03176443, -0.05076874,  0.15321693, -0.02367382,\n",
       "       -0.0078552 ,  0.08436131, -0.08042031, -0.08836847, -0.01713637,\n",
       "        0.07352565, -0.16472325,  0.05473585,  0.15367231, -0.05284015,\n",
       "       -0.16474274, -0.00894895, -0.13604094, -0.03889371, -0.09204532,\n",
       "        0.02874651,  0.02445944,  0.19419461, -0.03297978,  0.00509352,\n",
       "        0.0146906 , -0.15543009,  0.03542742, -0.02936257,  0.01372886,\n",
       "       -0.0606757 ,  0.02025392, -0.14560148,  0.05823914,  0.01729455,\n",
       "        0.16282158,  0.18634756, -0.06337869,  0.1306742 , -0.11122588,\n",
       "        0.0272168 ,  0.03868013,  0.15675613,  0.01344932,  0.19424561,\n",
       "       -0.01218801,  0.03659216, -0.08235365, -0.24420363,  0.07523726,\n",
       "        0.46423653,  0.06318451,  0.0508127 , -0.38147202, -0.20739552,\n",
       "        0.03489431, -0.18234783,  0.09021272, -0.02504168, -0.22256528,\n",
       "        0.03382994, -0.13379364, -0.14375682, -0.11264054, -0.03744001,\n",
       "        0.06188852,  0.09650661,  0.08384212,  0.1964642 , -0.07446123,\n",
       "        0.00921882,  0.03034359, -0.02482695,  0.27563572,  0.02422197,\n",
       "       -0.23416583, -0.0523523 ,  0.10200828, -0.03673672,  0.29402921,\n",
       "        0.05685116,  0.01759575,  0.07998175, -0.07554322,  0.14788596,\n",
       "        0.01690632,  0.07576851,  0.07596124, -0.10800065,  0.20829839,\n",
       "       -0.07841395,  0.08663727,  0.12381283, -0.23434106, -0.00925518], dtype=float32)"
      ]
     },
     "execution_count": 30,
     "metadata": {},
     "output_type": "execute_result"
    }
   ],
   "source": [
    "hands.get_vector(\"<unk>\")"
   ]
  },
  {
   "cell_type": "code",
   "execution_count": null,
   "metadata": {
    "collapsed": true
   },
   "outputs": [],
   "source": []
  }
 ],
 "metadata": {
  "kernelspec": {
   "display_name": "Python 3",
   "language": "python",
   "name": "python3"
  },
  "language_info": {
   "codemirror_mode": {
    "name": "ipython",
    "version": 3
   },
   "file_extension": ".py",
   "mimetype": "text/x-python",
   "name": "python",
   "nbconvert_exporter": "python",
   "pygments_lexer": "ipython3",
   "version": "3.6.3"
  }
 },
 "nbformat": 4,
 "nbformat_minor": 2
}
