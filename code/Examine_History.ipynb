{
 "cells": [
  {
   "cell_type": "markdown",
   "metadata": {},
   "source": [
    "# Examine History Files\n",
    "> Reads in all csv files in the target directory  \n",
    "> for each  \n",
    "> * finds the lowest val_pred loss epoch\n",
    "> * plots a subplot of entire training run, best epoch in RED  \n",
    "> * After, plots a list ordered by pred loss of losses, accuracies, best epoch, total epochs\n"
   ]
  },
  {
   "cell_type": "code",
   "execution_count": null,
   "metadata": {},
   "outputs": [],
   "source": [
    "import os, glob\n",
    "import numpy as np\n",
    "import pandas as pd\n",
    "import matplotlib.image as mpimg\n",
    "from matplotlib import pyplot as plt\n",
    "\n",
    "# don't truncate the column displays!\n",
    "pd.set_option('display.max_colwidth', -1)"
   ]
  },
  {
   "cell_type": "code",
   "execution_count": null,
   "metadata": {},
   "outputs": [],
   "source": [
    "def processHistoryFile( history, figure=None, plotCol=0, showImage=False):\n",
    "    \"\"\"\n",
    "    Read a single train history csv file, plot it, return useful data\n",
    "    \n",
    "    history - filename of csv history file\n",
    "    figure - figure to plot into\n",
    "    plotCol - 0 or 1 for which column to plot in\n",
    "    showImage - Display the png of the graph after plotting the history\n",
    "    \n",
    "    Returns: best epoch (pd.Series: ['epoch', 'acc', 'pred_acc', 'loss', 'pred_loss', 'num_epochs', 'model'])\n",
    "    \"\"\"\n",
    "    dictRet = {}\n",
    "    plotCol %= 2\n",
    "    \n",
    "    # read in the file\n",
    "    pdHist = pd.read_csv(history)\n",
    "    \n",
    "    # get something printable\n",
    "    modelName = ' '.join(history.split('/')[-1].split('_')[0:-1])\n",
    "    \n",
    "    if figure is None:\n",
    "        figure = plt.figure(figsize=(14,6))\n",
    "    \n",
    "    # get best epoch\n",
    "    if 'val_out_pred_loss' in pdHist:\n",
    "        acc = 'out_pred_acc'\n",
    "        pred_acc = 'val_out_pred_acc'\n",
    "        loss = 'out_pred_loss'\n",
    "        pred_loss = 'val_out_pred_loss'\n",
    "    else:\n",
    "        acc = 'acc'\n",
    "        pred_acc = 'val_acc'\n",
    "        loss = 'loss'\n",
    "        pred_loss = 'val_loss'\n",
    "    \n",
    "    # save the best\n",
    "    pdBest = pdHist.iloc[pdHist[pred_loss].idxmin()][['epoch', acc, pred_acc, loss, pred_loss]]\n",
    "    pdBest = pdBest.rename({ acc : 'acc', \n",
    "                             pred_acc : 'pred_acc', \n",
    "                             loss : 'loss', \n",
    "                             pred_loss : 'pred_loss'})\n",
    "    pdBest['num_epochs'] = len(pdHist)\n",
    "    pdBest['model'] = modelName\n",
    "    #dictBest = {}\n",
    "    #pdBest = pdHist.iloc[pdHist[pred_loss].idxmin()]\n",
    "    \n",
    "    #dictBest['epoch'] = pdBest.epoch\n",
    "    #dictBest['acc'] = pdBest[acc]\n",
    "    #dictBest['val_acc'] = pdBest[val_acc]\n",
    "    #dictBest['loss'] = pdBest[loss]\n",
    "    #dictBest['pred_loss'] = pdBest[pred_loss]\n",
    "    #dictBest['numEpochs'] = len(pdHist)\n",
    "    \n",
    "    # plot it (figure already created)\n",
    "    ax=plt.subplot(2,2,1 + plotCol)\n",
    "    pdHist[[loss, pred_loss]].plot(ax=ax, sharex=True, title=modelName)\n",
    "    ax.plot( pdBest['epoch'], pdBest['pred_loss'], 'or', markersize=6)\n",
    "    ax.set_ylim(0.0, 0.035)\n",
    "    ax=plt.subplot(2,2,3 + plotCol)\n",
    "    pdHist[[acc, pred_acc]].plot(ax=ax, sharex=True )\n",
    "    ax.plot( pdBest['epoch'], pdBest['pred_acc'], 'or', markersize=6)\n",
    "    ax.set_ylim(0.96, 1.0)\n",
    "    plt.xlabel(\"epoch (best epoch in red)\")\n",
    "    #figure.text(x=0.15 + plotCol * 0.4, y=0.92, s=modelName, size=\"x-large\")\n",
    "    \n",
    "    if plotCol == 1:\n",
    "        plt.show()\n",
    "    \n",
    "    if showImage:\n",
    "        try:\n",
    "            fig = plt.figure(figsize=(10, 14))\n",
    "            img = mpimg.imread(history.replace(\"_historylog.csv\", \".png\"))\n",
    "            ax=plt.subplot(1,1,1)\n",
    "            ax.imshow(img)\n",
    "            ax.axis('off')\n",
    "            plt.show()\n",
    "        except:\n",
    "            print( \"No image found for this history\")\n",
    "    \n",
    "    return pdBest\n",
    "    "
   ]
  },
  {
   "cell_type": "code",
   "execution_count": null,
   "metadata": {},
   "outputs": [],
   "source": [
    "# testing\n",
    "#history = \"result/glove_learn_caps_historylog.csv\"\n",
    "#processed = processHistoryFile( history, showImage=True)\n"
   ]
  },
  {
   "cell_type": "code",
   "execution_count": null,
   "metadata": {},
   "outputs": [],
   "source": [
    "def processHistoryDir( directory):\n",
    "    \"\"\"\n",
    "    Process training output history.csv files\n",
    "    \n",
    "    directory - the directory to walk through relative to current directory or absolute path\n",
    "    \n",
    "    Returns: a pandas dataframe containing best epoch of each history file\n",
    "    NOTE - this function does not walk recursively\n",
    "    \"\"\"\n",
    "    pdBest = pd.DataFrame( )\n",
    "    plotCol = 0\n",
    "\n",
    "    # process all csv files\n",
    "    for history in sorted(glob.glob(directory + \"/*.csv\")):\n",
    "\n",
    "        plotCol %= 2\n",
    "        if plotCol == 0:\n",
    "            fig = plt.figure(figsize=(14, 6))\n",
    "\n",
    "        pdBest = pdBest.append( processHistoryFile( history, fig, plotCol, False))\n",
    "\n",
    "        plotCol += 1\n",
    "    \n",
    "    pdBest.sort_values('pred_loss', inplace=True)\n",
    "    pdBest.reset_index(drop=True, inplace=True)\n",
    "    \n",
    "    # rearrange column order\n",
    "    cols = list(pdBest.columns.values)\n",
    "    cols.pop(cols.index('model'))\n",
    "    pdBest = pdBest[['pred_loss', 'pred_acc', 'loss', 'acc', 'epoch', 'num_epochs', 'model']]\n",
    "    \n",
    "    return pdBest"
   ]
  },
  {
   "cell_type": "markdown",
   "metadata": {},
   "source": [
    "# Run all of above, then run this cell to process a directory of history files"
   ]
  },
  {
   "cell_type": "code",
   "execution_count": null,
   "metadata": {
    "scrolled": true
   },
   "outputs": [],
   "source": [
    "pdBest = processHistoryDir( \"result\")"
   ]
  },
  {
   "cell_type": "code",
   "execution_count": null,
   "metadata": {
    "scrolled": true
   },
   "outputs": [],
   "source": [
    "# default sort orders by prediction loss\n",
    "pdBest"
   ]
  },
  {
   "cell_type": "code",
   "execution_count": null,
   "metadata": {
    "scrolled": true
   },
   "outputs": [],
   "source": [
    "# take a look sorted by prediction accuracy\n",
    "pdBest.sort_values('pred_acc', ascending=False)"
   ]
  },
  {
   "cell_type": "code",
   "execution_count": null,
   "metadata": {},
   "outputs": [],
   "source": []
  },
  {
   "cell_type": "code",
   "execution_count": null,
   "metadata": {},
   "outputs": [],
   "source": []
  },
  {
   "cell_type": "code",
   "execution_count": null,
   "metadata": {},
   "outputs": [],
   "source": []
  }
 ],
 "metadata": {
  "kernelspec": {
   "display_name": "Python 3",
   "language": "python",
   "name": "python3"
  },
  "language_info": {
   "codemirror_mode": {
    "name": "ipython",
    "version": 3
   },
   "file_extension": ".py",
   "mimetype": "text/x-python",
   "name": "python",
   "nbconvert_exporter": "python",
   "pygments_lexer": "ipython3",
   "version": "3.6.4"
  }
 },
 "nbformat": 4,
 "nbformat_minor": 2
}
